{
 "cells": [
  {
   "cell_type": "code",
   "execution_count": 1,
   "metadata": {},
   "outputs": [],
   "source": [
    "import numpy as np"
   ]
  },
  {
   "cell_type": "code",
   "execution_count": 30,
   "metadata": {},
   "outputs": [
    {
     "name": "stdout",
     "output_type": "stream",
     "text": [
      "palavra1\n",
      "palavra3\n",
      "palavra4\n"
     ]
    }
   ],
   "source": [
    "# Dice-Sorensen coefficient\n",
    "array = np.array([['palavra1', 20, 10],\n",
    "                 ['palavra2', 13, 20],\n",
    "                 ['palavra3', 2, 15],\n",
    "                 ['palavra4', 8, 200]], dtype=object)\n",
    "\n",
    "\n",
    "for row in array:\n",
    "    palavras = row[0] \n",
    "    reais = row[1]\n",
    "    falsas = row[2]\n",
    "    sum = reais + falsas\n",
    "    modulo = reais - falsas\n",
    "    if (modulo < 0):\n",
    "        modulo = modulo * (-1)\n",
    "\n",
    "    coef = modulo / sum\n",
    "\n",
    "    if (coef > 0.3):\n",
    "        print (palavras)"
   ]
  }
 ],
 "metadata": {
  "language_info": {
   "name": "python"
  }
 },
 "nbformat": 4,
 "nbformat_minor": 2
}
