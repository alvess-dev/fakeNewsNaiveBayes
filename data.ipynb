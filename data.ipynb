{
 "cells": [
  {
   "cell_type": "code",
   "execution_count": null,
   "metadata": {},
   "outputs": [],
   "source": [
    "pip install numpy\n",
    "pip install pandas"
   ]
  },
  {
   "cell_type": "code",
   "execution_count": 4,
   "metadata": {},
   "outputs": [],
   "source": [
    "import pandas as pd"
   ]
  },
  {
   "cell_type": "code",
   "execution_count": null,
   "metadata": {},
   "outputs": [],
   "source": [
    "# Read the csv datas\n",
    "\n",
    "dfReais = pd.read_csv('palavrasReais.csv')\n",
    "dfFalsas = pd.read_csv('palavrasFalsas.csv')\n",
    "\n",
    "#dfFalsasAlpha = dfFalsas.drop(columns=['aparicoesReais'])\n",
    "#dfReaisAlpha = dfReais.drop(columns=['aparicoesFalsas'])"
   ]
  },
  {
   "cell_type": "code",
   "execution_count": null,
   "metadata": {},
   "outputs": [],
   "source": [
    "# Merge the csv files to one\n",
    "\n",
    "dfMerged = dfReais.merge(dfFalsas, on = 'palavras', how = 'left')\n",
    "\n",
    "dfMerged = dfMerged.sort_values(by=['aparicoesReais', 'aparicoesFalsas'], ascending=False)\n",
    "print (dfMerged)"
   ]
  },
  {
   "cell_type": "code",
   "execution_count": null,
   "metadata": {},
   "outputs": [],
   "source": [
    "# Delete the words which it occurrences is less than 10\n",
    "\n",
    "dfMerged.drop(dfMerged[dfMerged['aparicoesReais'] < 10].index, inplace = True)\n",
    "dfMerged.drop(dfMerged[dfMerged['aparicoesFalsas'] < 10].index, inplace = True)"
   ]
  },
  {
   "cell_type": "code",
   "execution_count": null,
   "metadata": {},
   "outputs": [],
   "source": [
    "# Dice-Sorensen coefficient\n",
    "\n",
    "dfArray = dfMerged[['palavras', 'aparicoesReais', 'aparicoesFalsas']].to_numpy() # convert the df to a 2d array\n",
    "notGonnaUseWords = []\n",
    "\n",
    "for row in dfArray:\n",
    "    words = row[0] \n",
    "    realOccurrences = row[1]\n",
    "    fakeOccurrences = row[2]\n",
    "\n",
    "    sum = realOccurrences + fakeOccurrences\n",
    "    modulo = realOccurrences - fakeOccurrences\n",
    "\n",
    "    if (modulo < 0):\n",
    "        modulo = modulo * (-1)\n",
    "\n",
    "    coef = modulo / sum\n",
    "\n",
    "    if (coef < 0.3):\n",
    "        notGonnaUseWords.append(words)"
   ]
  },
  {
   "cell_type": "code",
   "execution_count": null,
   "metadata": {},
   "outputs": [],
   "source": [
    "# Delete the words which the dice-soeresen coefficient is less than 0.3 (words that the occurrences is proportionality in both cases)\n",
    "for word in notGonnaUseWords:\n",
    "    dfMerged = dfMerged[((dfMerged.palavras != word))]"
   ]
  },
  {
   "cell_type": "code",
   "execution_count": 33,
   "metadata": {},
   "outputs": [],
   "source": [
    "# Convert columns (words) to array\n",
    "arrayFinal = dfMerged[['palavras']].to_numpy()"
   ]
  }
 ],
 "metadata": {
  "language_info": {
   "name": "python"
  }
 },
 "nbformat": 4,
 "nbformat_minor": 2
}
